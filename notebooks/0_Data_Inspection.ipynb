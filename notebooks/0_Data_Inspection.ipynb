{
 "cells": [
  {
   "cell_type": "markdown",
   "id": "f4a09f2b-9250-4a17-828b-2ad20a411059",
   "metadata": {
    "jp-MarkdownHeadingCollapsed": true,
    "tags": []
   },
   "source": [
    "# Setup"
   ]
  },
  {
   "cell_type": "code",
   "execution_count": 1,
   "id": "f7504513-3fc1-4bee-84b9-7dd1c6cb164a",
   "metadata": {},
   "outputs": [],
   "source": [
    "# Import libraries\n",
    "import sys\n",
    "import os\n",
    "import numpy as np\n",
    "from dotenv import load_dotenv\n",
    "import rasterio\n",
    "from rasterio.windows import Window\n",
    "from rasterio.plot import show\n",
    "\n",
    "load_dotenv()\n",
    "sys.path.append(os.getenv('CODE_ROOT_PATH')) # Add path\n",
    "\n",
    "from src.data import dataset_utility as dutil\n",
    "\n",
    "IMG_PATH = os.getenv('IMG_PATH')"
   ]
  },
  {
   "cell_type": "markdown",
   "id": "348d761c-355a-4051-bbf1-5a0acfa639db",
   "metadata": {
    "tags": []
   },
   "source": [
    "# Get Information About the Dataset"
   ]
  },
  {
   "cell_type": "code",
   "execution_count": 2,
   "id": "8d0f6b62-49a8-4715-ab2d-a37ea9d2455b",
   "metadata": {
    "scrolled": true,
    "tags": []
   },
   "outputs": [
    {
     "name": "stdout",
     "output_type": "stream",
     "text": [
      "{\n",
      "  \"blockxsize\": 512,\n",
      "  \"blockysize\": 512,\n",
      "  \"bounds\": [\n",
      "    897686.0842238902,\n",
      "    7273540.536593572,\n",
      "    1693670.4040412125,\n",
      "    7916949.670825127\n",
      "  ],\n",
      "  \"colorinterp\": [\n",
      "    \"red\",\n",
      "    \"green\",\n",
      "    \"blue\"\n",
      "  ],\n",
      "  \"compress\": \"deflate\",\n",
      "  \"count\": 3,\n",
      "  \"crs\": \"EPSG:3857\",\n",
      "  \"descriptions\": [\n",
      "    null,\n",
      "    null,\n",
      "    null\n",
      "  ],\n",
      "  \"driver\": \"GTiff\",\n",
      "  \"dtype\": \"uint8\",\n",
      "  \"height\": 3092556,\n",
      "  \"indexes\": [\n",
      "    1,\n",
      "    2,\n",
      "    3\n",
      "  ],\n",
      "  \"interleave\": \"pixel\",\n",
      "  \"lnglat\": [\n",
      "    11.639275700054155,\n",
      "    56.18456349061118\n",
      "  ],\n",
      "  \"mask_flags\": [\n",
      "    [\n",
      "      \"nodata\"\n",
      "    ],\n",
      "    [\n",
      "      \"nodata\"\n",
      "    ],\n",
      "    [\n",
      "      \"nodata\"\n",
      "    ]\n",
      "  ],\n",
      "  \"nodata\": 0.0,\n",
      "  \"res\": [\n",
      "    0.20805092429419356,\n",
      "    0.20805092429419356\n",
      "  ],\n",
      "  \"shape\": [\n",
      "    3092556,\n",
      "    3825911\n",
      "  ],\n",
      "  \"tiled\": true,\n",
      "  \"transform\": [\n",
      "    0.20805092429419356,\n",
      "    0.0,\n",
      "    897686.0842238902,\n",
      "    0.0,\n",
      "    -0.20805092429419356,\n",
      "    7916949.670825127,\n",
      "    0.0,\n",
      "    0.0,\n",
      "    1.0\n",
      "  ],\n",
      "  \"units\": [\n",
      "    null,\n",
      "    null,\n",
      "    null\n",
      "  ],\n",
      "  \"width\": 3825911\n",
      "}\n"
     ]
    }
   ],
   "source": [
    "!rio info /path/to/geotiff/cog.tif --indent=2 "
   ]
  },
  {
   "cell_type": "code",
   "execution_count": 3,
   "id": "5e1959ae-096d-42b3-857d-2bff5f17bd09",
   "metadata": {
    "scrolled": true,
    "tags": []
   },
   "outputs": [
    {
     "name": "stdout",
     "output_type": "stream",
     "text": [
      "Driver: GTiff/GeoTIFF\n",
      "Files: /path/to/geotiff/cog.tif\n",
      "Size is 3825911, 3092556\n",
      "Coordinate System is:\n",
      "PROJCRS[\"WGS 84 / Pseudo-Mercator\",\n",
      "    BASEGEOGCRS[\"WGS 84\",\n",
      "        ENSEMBLE[\"World Geodetic System 1984 ensemble\",\n",
      "            MEMBER[\"World Geodetic System 1984 (Transit)\"],\n",
      "            MEMBER[\"World Geodetic System 1984 (G730)\"],\n",
      "            MEMBER[\"World Geodetic System 1984 (G873)\"],\n",
      "            MEMBER[\"World Geodetic System 1984 (G1150)\"],\n",
      "            MEMBER[\"World Geodetic System 1984 (G1674)\"],\n",
      "            MEMBER[\"World Geodetic System 1984 (G1762)\"],\n",
      "            MEMBER[\"World Geodetic System 1984 (G2139)\"],\n",
      "            ELLIPSOID[\"WGS 84\",6378137,298.257223563,\n",
      "                LENGTHUNIT[\"metre\",1]],\n",
      "            ENSEMBLEACCURACY[2.0]],\n",
      "        PRIMEM[\"Greenwich\",0,\n",
      "            ANGLEUNIT[\"degree\",0.0174532925199433]],\n",
      "        ID[\"EPSG\",4326]],\n",
      "    CONVERSION[\"Popular Visualisation Pseudo-Mercator\",\n",
      "        METHOD[\"Popular Visualisation Pseudo Mercator\",\n",
      "            ID[\"EPSG\",1024]],\n",
      "        PARAMETER[\"Latitude of natural origin\",0,\n",
      "            ANGLEUNIT[\"degree\",0.0174532925199433],\n",
      "            ID[\"EPSG\",8801]],\n",
      "        PARAMETER[\"Longitude of natural origin\",0,\n",
      "            ANGLEUNIT[\"degree\",0.0174532925199433],\n",
      "            ID[\"EPSG\",8802]],\n",
      "        PARAMETER[\"False easting\",0,\n",
      "            LENGTHUNIT[\"metre\",1],\n",
      "            ID[\"EPSG\",8806]],\n",
      "        PARAMETER[\"False northing\",0,\n",
      "            LENGTHUNIT[\"metre\",1],\n",
      "            ID[\"EPSG\",8807]]],\n",
      "    CS[Cartesian,2],\n",
      "        AXIS[\"easting (X)\",east,\n",
      "            ORDER[1],\n",
      "            LENGTHUNIT[\"metre\",1]],\n",
      "        AXIS[\"northing (Y)\",north,\n",
      "            ORDER[2],\n",
      "            LENGTHUNIT[\"metre\",1]],\n",
      "    USAGE[\n",
      "        SCOPE[\"Web mapping and visualisation.\"],\n",
      "        AREA[\"World between 85.06°S and 85.06°N.\"],\n",
      "        BBOX[-85.06,-180,85.06,180]],\n",
      "    ID[\"EPSG\",3857]]\n",
      "Data axis to CRS axis mapping: 1,2\n",
      "Origin = (897686.084223890211433,7916949.670825126580894)\n",
      "Pixel Size = (0.208050924294194,-0.208050924294194)\n",
      "Metadata:\n",
      "  AREA_OR_POINT=Area\n",
      "Image Structure Metadata:\n",
      "  COMPRESSION=DEFLATE\n",
      "  INTERLEAVE=PIXEL\n",
      "  LAYOUT=COG\n",
      "Corner Coordinates:\n",
      "Upper Left  (  897686.084, 7916949.671) (  8d 3'50.58\"E, 57d45'33.94\"N)\n",
      "Lower Left  (  897686.084, 7273540.537) (  8d 3'50.58\"E, 54d32'32.33\"N)\n",
      "Upper Right ( 1693670.404, 7916949.671) ( 15d12'52.20\"E, 57d45'33.94\"N)\n",
      "Lower Right ( 1693670.404, 7273540.537) ( 15d12'52.20\"E, 54d32'32.33\"N)\n",
      "Center      ( 1295678.244, 7595245.104) ( 11d38'21.39\"E, 56d11' 4.43\"N)\n",
      "Band 1 Block=512x512 Type=Byte, ColorInterp=Red\n",
      "  NoData Value=0\n",
      "  Overviews: 1912956x1546278, 956477x773139, 478239x386569, 239119x193285, 119560x96642, 59780x48321, 29889x24160, 14944x12080, 7472x6040, 3736x3020, 1868x1510, 934x755, 466x377, 233x188\n",
      "Band 2 Block=512x512 Type=Byte, ColorInterp=Green\n",
      "  NoData Value=0\n",
      "  Overviews: 1912956x1546278, 956477x773139, 478239x386569, 239119x193285, 119560x96642, 59780x48321, 29889x24160, 14944x12080, 7472x6040, 3736x3020, 1868x1510, 934x755, 466x377, 233x188\n",
      "Band 3 Block=512x512 Type=Byte, ColorInterp=Blue\n",
      "  NoData Value=0\n",
      "  Overviews: 1912956x1546278, 956477x773139, 478239x386569, 239119x193285, 119560x96642, 59780x48321, 29889x24160, 14944x12080, 7472x6040, 3736x3020, 1868x1510, 934x755, 466x377, 233x188\n"
     ]
    }
   ],
   "source": [
    "!gdalinfo /path/to/geotiff/cog.tif"
   ]
  },
  {
   "cell_type": "code",
   "execution_count": 4,
   "id": "d60a4ebf-0a15-4758-8708-c554f513d394",
   "metadata": {},
   "outputs": [
    {
     "name": "stdout",
     "output_type": "stream",
     "text": [
      "Info about the dataset\n",
      "Name: /path/to/geotiff/cog.tif\n",
      "Meta: {'driver': 'GTiff', 'dtype': 'uint8', 'nodata': 0.0, 'width': 3825911, 'height': 3092556, 'count': 3, 'crs': CRS.from_epsg(3857), 'transform': Affine(0.20805092429419356, 0.0, 897686.0842238902,\n",
      "       0.0, -0.20805092429419356, 7916949.670825127)}\n",
      "Bounds: BoundingBox(left=897686.0842238902, bottom=7273540.536593572, right=1693670.4040412125, top=7916949.670825127)\n",
      "Number of Bands: 3\n",
      "Width: 3825911\n",
      "Height: 3092556\n",
      "Coordinate reference system (CRS): EPSG:3857\n",
      "Spacial position of upper left corner: (897686.0842238902, 7916949.670825127)\n",
      "Spacial position of lower right corner: (1693670.4040412125, 7273540.536593572)\n",
      "{1: 'uint8', 2: 'uint8', 3: 'uint8'}\n"
     ]
    }
   ],
   "source": [
    "with rasterio.open(IMG_PATH) as src:\n",
    "      dutil.print_dataset_information(src)"
   ]
  }
 ],
 "metadata": {
  "kernelspec": {
   "display_name": "Python 3 (ipykernel)",
   "language": "python",
   "name": "python3"
  },
  "language_info": {
   "codemirror_mode": {
    "name": "ipython",
    "version": 3
   },
   "file_extension": ".py",
   "mimetype": "text/x-python",
   "name": "python",
   "nbconvert_exporter": "python",
   "pygments_lexer": "ipython3",
   "version": "3.8.10"
  }
 },
 "nbformat": 4,
 "nbformat_minor": 5
}
