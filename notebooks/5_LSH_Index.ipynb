{
 "cells": [
  {
   "cell_type": "markdown",
   "id": "e91fac56-9813-46e9-9c1f-ed9b1c3892f8",
   "metadata": {
    "tags": []
   },
   "source": [
    "# Setup\n",
    "- Change `MODEL` to use different models: `tiny`, `tiny_longer`, `small`, `small_pretrained`"
   ]
  },
  {
   "cell_type": "code",
   "execution_count": 1,
   "id": "742cb013-fda5-46a8-b2ec-a1b50a622be4",
   "metadata": {},
   "outputs": [],
   "source": [
    "import sys\n",
    "import os\n",
    "from dotenv import load_dotenv\n",
    "from random import randint\n",
    "import numpy as np\n",
    "import timeit\n",
    "\n",
    "load_dotenv()\n",
    "sys.path.append(os.getenv('CODE_ROOT_PATH'))\n",
    "\n",
    "from src.models.lsh_nn import LSH\n",
    "\n",
    "MODEL = 'tiny'\n",
    "NN_QUERY_INDICES = os.path.join(os.getenv('TRAINED_MODELS'), 'nn_query_indices.npy')\n",
    "FEATURES_PATH = os.path.join(os.getenv('TRAINED_MODELS'), MODEL, 'features.npy')\n",
    "NN_EASY_CANDIDATES = os.path.join(os.getenv('TRAINED_MODELS'), MODEL, 'nn_easy_candidates.npy')\n",
    "NN_MEDIUM_CANDIDATES = os.path.join(os.getenv('TRAINED_MODELS'), MODEL, 'nn_medium_candidates.npy')\n",
    "NN_HARD_CANDIDATES = os.path.join(os.getenv('TRAINED_MODELS'), MODEL, 'nn_hard_candidates.npy')"
   ]
  },
  {
   "cell_type": "markdown",
   "id": "b2d41d62-1f97-4e75-be18-6995f9ac0ab1",
   "metadata": {
    "tags": []
   },
   "source": [
    "# Generate LSH Index Datastructure"
   ]
  },
  {
   "cell_type": "code",
   "execution_count": 2,
   "id": "c5b2fe49-5081-429a-aa18-55c0b13eaae1",
   "metadata": {},
   "outputs": [],
   "source": [
    "lsh = LSH(features_path=FEATURES_PATH)"
   ]
  },
  {
   "cell_type": "markdown",
   "id": "f8e5c605-e84b-4160-8305-20f8e1e3ff3e",
   "metadata": {
    "tags": []
   },
   "source": [
    "## Generate Index: Runtime Experiment"
   ]
  },
  {
   "cell_type": "code",
   "execution_count": 3,
   "id": "4fb398bf-df28-491d-b970-6f88ff29cc2c",
   "metadata": {},
   "outputs": [],
   "source": [
    "times = 1000\n",
    "result = timeit.timeit('LSH(features_path=FEATURES_PATH, print_details=False)', globals=globals(), number=times)\n",
    "print(result / times)"
   ]
  },
  {
   "cell_type": "markdown",
   "id": "8d4d682d-f5cd-4b66-828d-df6d90a5f527",
   "metadata": {
    "tags": []
   },
   "source": [
    "# Query the LSH Datastructure"
   ]
  },
  {
   "cell_type": "markdown",
   "id": "9e79527d-fb2a-46b3-a143-bd224305f8ce",
   "metadata": {},
   "source": [
    "Patches are classified as follows. Note that this classification is still *partly subjective*.\n",
    "\n",
    "Difficulty | #Patches | Explanation | Indices\n",
    "--- | --- | --- | ---\n",
    "**Easy** | 10 | Single or very simple concept (regular pattern) | 2, 7, 11, 18, 20, 21, 23, 28, 61, 75\n",
    "**Medium** | 20 | Multiple or more complex concept (multiple patterns) | 1, 6, 10, 17, 37, 42, 93, 153, 154, 175, 324, 549, 734, 757, 813, 1109, 1168, 1198, 1290, 1489\n",
    "**Hard** | 10 | Concept only takes up a small portion of the pixels (small patterns) | 14, 25, 44, 57, 217, 420, 685, 817, 1011, 1355"
   ]
  },
  {
   "cell_type": "code",
   "execution_count": 4,
   "id": "4fde76a3-75a1-4661-b596-be94d72fb862",
   "metadata": {},
   "outputs": [],
   "source": [
    "example_indices = [\n",
    "    2, 7, 11, 18, 20, 21, 23, 28, 61, 75,  # Easy\n",
    "    1, 6, 10, 17, 37, 42, 93, 153, 154, 175, 324, 549, 734, 757, 813, 1109, 1168, 1198, 1290, 1489,  # Medium\n",
    "    14, 25, 44, 57, 217, 420, 685, 817, 1011, 1355,  # Hard\n",
    "]\n",
    "np.save(os.path.join(os.getenv('TRAINED_MODELS'), 'nn_query_indices.npy'), example_indices)"
   ]
  },
  {
   "cell_type": "code",
   "execution_count": 5,
   "id": "47c73ea3-3936-4c85-a9b9-86099b15bd91",
   "metadata": {},
   "outputs": [],
   "source": [
    "features = np.load(FEATURES_PATH).astype(np.float32)\n",
    "queries = features[np.load(NN_QUERY_INDICES)]\n",
    "# Search 100 nearest neighbors for \"easy\" patches (k=101 because first \"NN\" is query patch itself, as included in dataset)\n",
    "nn_easy_candidates = np.array([lsh.knn(queries[i], k=101) for i in range(0, 10)])\n",
    "np.save(NN_EASY_CANDIDATES, nn_easy_candidates)\n",
    "# Search 50 nearest neighbors for \"medium\" patches\n",
    "nn_medium_candidates = np.array([lsh.knn(queries[i], k=51) for i in range(10, 30)])\n",
    "np.save(NN_MEDIUM_CANDIDATES, nn_medium_candidates)\n",
    "# Search 20 nearest neighbors for \"hard\" patches\n",
    "nn_hard_candidates = np.array([lsh.knn(queries[i], k=21) for i in range(30, 40)])\n",
    "np.save(NN_HARD_CANDIDATES, nn_hard_candidates)"
   ]
  },
  {
   "cell_type": "markdown",
   "id": "b51d59f0-b1ee-4c60-8809-34e6174497f6",
   "metadata": {
    "tags": []
   },
   "source": [
    "## Query Index: Runtime Experiment"
   ]
  },
  {
   "cell_type": "code",
   "execution_count": 6,
   "id": "de830c0f-e4e3-4f05-8806-1c4c0d644993",
   "metadata": {},
   "outputs": [],
   "source": [
    "features = np.load(FEATURES_PATH).astype(np.float32)\n",
    "def query(i):\n",
    "    lsh.knn(features[i], 100)\n",
    "\n",
    "result = timeit.timeit('[query(n) for n in range(len(features))]', globals=globals(), number=5)\n",
    "print(result/(5*400.000))"
   ]
  }
 ],
 "metadata": {
  "kernelspec": {
   "display_name": "Python 3 (ipykernel)",
   "language": "python",
   "name": "python3"
  },
  "language_info": {
   "codemirror_mode": {
    "name": "ipython",
    "version": 3
   },
   "file_extension": ".py",
   "mimetype": "text/x-python",
   "name": "python",
   "nbconvert_exporter": "python",
   "pygments_lexer": "ipython3",
   "version": "3.8.10"
  }
 },
 "nbformat": 4,
 "nbformat_minor": 5
}
