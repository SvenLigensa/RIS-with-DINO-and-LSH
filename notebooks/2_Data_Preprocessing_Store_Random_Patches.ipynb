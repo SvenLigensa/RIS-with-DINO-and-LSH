{
 "cells": [
  {
   "cell_type": "markdown",
   "id": "b58d26fa-7744-488f-9ad9-b9b474c5da37",
   "metadata": {
    "jp-MarkdownHeadingCollapsed": true,
    "tags": []
   },
   "source": [
    "# Setup"
   ]
  },
  {
   "cell_type": "code",
   "execution_count": 1,
   "id": "065caa50-d085-4b86-b462-544724bd2153",
   "metadata": {},
   "outputs": [],
   "source": [
    "import sys\n",
    "import os\n",
    "import numpy as np\n",
    "from dotenv import load_dotenv\n",
    "import rasterio\n",
    "import threading\n",
    "from PIL import Image\n",
    "\n",
    "load_dotenv()\n",
    "sys.path.append(os.getenv('CODE_ROOT_PATH'))\n",
    "\n",
    "from src.data import dataset_utility as dutil\n",
    "\n",
    "ALL_INDICES_PATH = os.getenv('ALL_INDICES_PATH')\n",
    "PREPROCESSED_DATA_DIR = os.getenv('PREPROCESSED_DATA_DIR')\n",
    "RANDOM_INDICES_PATH = os.getenv('RANDOM_INDICES_PATH')"
   ]
  },
  {
   "cell_type": "markdown",
   "id": "7b63c508-1732-4a2c-9ae1-47e3ee8e4620",
   "metadata": {},
   "source": [
    "# Preprocessing"
   ]
  },
  {
   "cell_type": "code",
   "execution_count": 2,
   "id": "7c597c27-160f-47a0-87e1-ef167ee44fae",
   "metadata": {},
   "outputs": [],
   "source": [
    "patch_indices = np.load(ALL_INDICES_PATH)\n",
    "np.random.shuffle(patch_indices)"
   ]
  },
  {
   "cell_type": "code",
   "execution_count": 3,
   "id": "ef973b81-a261-4fce-b2d2-37027202e079",
   "metadata": {},
   "outputs": [],
   "source": [
    "dataset_size = 400000\n",
    "random_indices = [int(patch_indices[i]) for i in range(dataset_size)]\n",
    "np.save(RANDOM_INDICES_PATH, random_indices)"
   ]
  },
  {
   "cell_type": "code",
   "execution_count": 4,
   "id": "7d555d42-49ca-4f92-afc8-7f5f0eb015e8",
   "metadata": {},
   "outputs": [],
   "source": [
    "def store_patches(indices, start_idx, end_idx):\n",
    "    for patch_idx in range(start_idx, end_idx):\n",
    "        arr = dutil.get_patch(indices[patch_idx])\n",
    "        np.save(os.path.join(PREPROCESSED_DATA_DIR, str(patch_idx)), arr)"
   ]
  },
  {
   "cell_type": "markdown",
   "id": "64dc35c6-3630-4100-baba-d6af938de572",
   "metadata": {},
   "source": [
    "Executing the next cell takes ~18h for 400000 patches.\n",
    "- `$ ls | wc -l` in directory `PREPROCESSED_DATA_DIR`: #files in directory\n",
    "- `$ du -sh`: size of directory"
   ]
  },
  {
   "cell_type": "code",
   "execution_count": 5,
   "id": "0c4cb9f0-6e24-49e3-a417-ff82812d0276",
   "metadata": {
    "scrolled": true,
    "tags": []
   },
   "outputs": [
    {
     "name": "stdout",
     "output_type": "stream",
     "text": [
      "Reading 400000 random image patches.\n"
     ]
    }
   ],
   "source": [
    "print(f\"Reading {dataset_size} random image patches.\")\n",
    "\n",
    "num_threads = 10\n",
    "patches_per_thread = int(dataset_size/num_threads)\n",
    "\n",
    "threads = list()\n",
    "for i in range(num_threads):\n",
    "    x = threading.Thread(target=store_patches, args=(random_indices, i*patches_per_thread, (i+1)*patches_per_thread))\n",
    "    threads.append(x)\n",
    "    x.start()\n",
    "\n",
    "for index, thread in enumerate(threads):\n",
    "    thread.join()"
   ]
  }
 ],
 "metadata": {
  "kernelspec": {
   "display_name": "Python 3 (ipykernel)",
   "language": "python",
   "name": "python3"
  },
  "language_info": {
   "codemirror_mode": {
    "name": "ipython",
    "version": 3
   },
   "file_extension": ".py",
   "mimetype": "text/x-python",
   "name": "python",
   "nbconvert_exporter": "python",
   "pygments_lexer": "ipython3",
   "version": "3.8.10"
  }
 },
 "nbformat": 4,
 "nbformat_minor": 5
}
