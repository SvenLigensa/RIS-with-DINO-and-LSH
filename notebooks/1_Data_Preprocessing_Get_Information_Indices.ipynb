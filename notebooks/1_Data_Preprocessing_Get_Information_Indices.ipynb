{
 "cells": [
  {
   "cell_type": "markdown",
   "id": "63c18c6f-dca9-478b-8809-bfcecddff51f",
   "metadata": {
    "jp-MarkdownHeadingCollapsed": true,
    "tags": []
   },
   "source": [
    "# Setup"
   ]
  },
  {
   "cell_type": "code",
   "execution_count": 1,
   "id": "891e12b6-a51b-4e4b-8155-f588da845358",
   "metadata": {},
   "outputs": [],
   "source": [
    "import sys\n",
    "import os\n",
    "import numpy as np\n",
    "from dotenv import load_dotenv\n",
    "import rasterio\n",
    "from rasterio.windows import Window\n",
    "\n",
    "load_dotenv()\n",
    "sys.path.append(os.getenv('CODE_ROOT_PATH'))\n",
    "\n",
    "from src.data import dataset_utility as dutil\n",
    "\n",
    "ALL_INDICES_PATH = os.getenv('ALL_INDICES_PATH')"
   ]
  },
  {
   "cell_type": "markdown",
   "id": "78eaff8f-cd65-4de4-b6a5-898eb363143d",
   "metadata": {
    "tags": []
   },
   "source": [
    "# Get Indices of Patches With Enough Information"
   ]
  },
  {
   "cell_type": "code",
   "execution_count": 2,
   "id": "116ac7f8-da65-4441-a859-486b9d68f42f",
   "metadata": {},
   "outputs": [],
   "source": [
    "num_rows = dutil.get_rows()\n",
    "\n",
    "info_indices = np.array([])\n",
    "for row in range(num_rows):\n",
    "    info_indices = np.append(info_indices, dutil.get_info_patches(row))\n",
    "    np.save(ALL_INDICES_PATH, info_indices)\n",
    "    print(f\"Row {row}: Done by {100*(row+1)/num_rows:.2f}%\")"
   ]
  }
 ],
 "metadata": {
  "kernelspec": {
   "display_name": "Python 3 (ipykernel)",
   "language": "python",
   "name": "python3"
  },
  "language_info": {
   "codemirror_mode": {
    "name": "ipython",
    "version": 3
   },
   "file_extension": ".py",
   "mimetype": "text/x-python",
   "name": "python",
   "nbconvert_exporter": "python",
   "pygments_lexer": "ipython3",
   "version": "3.8.10"
  }
 },
 "nbformat": 4,
 "nbformat_minor": 5
}
