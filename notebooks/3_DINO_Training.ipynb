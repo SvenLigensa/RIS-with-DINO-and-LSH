{
 "cells": [
  {
   "cell_type": "markdown",
   "id": "5b4d89fa-f244-4c70-9ae7-5a1071c7426d",
   "metadata": {
    "jp-MarkdownHeadingCollapsed": true,
    "tags": []
   },
   "source": [
    "# Setup"
   ]
  },
  {
   "cell_type": "code",
   "execution_count": 1,
   "id": "f8474dd9-bf12-449f-9647-c6f3f80502e4",
   "metadata": {},
   "outputs": [],
   "source": [
    "import sys\n",
    "import os\n",
    "from dotenv import load_dotenv\n",
    "\n",
    "load_dotenv()\n",
    "sys.path.append(os.getenv('CODE_ROOT_PATH'))\n",
    "\n",
    "from src.models.train_model import train_dino"
   ]
  },
  {
   "cell_type": "markdown",
   "id": "356a7f99-6255-480b-b6b6-96433deabb30",
   "metadata": {
    "tags": []
   },
   "source": [
    "# Training\n",
    "## Use different parameters to train different models:\n",
    "### ViT-Tiny\n",
    "- approx. 25 minutes per epoch\n",
    "- `arg_output_dir = <...>/tiny`\n",
    "- `arg_arch = 'vit_tiny'`\n",
    "- `arg_batch_size = 200`\n",
    "- `arg_epochs = 100`\n",
    "### ViT-Tiny Longer\n",
    "- approx. 25 minutes per epoch\n",
    "- `arg_output_dir = <...>/tiny_longer`\n",
    "- `arg_arch = 'vit_tiny'`\n",
    "- `arg_batch_size = 200`\n",
    "- `arg_epochs = 150`\n",
    "### ViT-Small\n",
    "- approx. 34 minutes per epoch\n",
    "- `arg_output_dir = <...>/small`\n",
    "- `arg_arch = 'vit_small'`\n",
    "- `arg_batch_size = 125`\n",
    "- `arg_epochs = 100`\n",
    "### ViT-Small Pretrained\n",
    "- approx. 34 minutes per epoch\n",
    "- Download checkpoint from https://dl.fbaipublicfiles.com/dino/dino_deitsmall16_pretrain/dino_deitsmall16_pretrain_full_checkpoint.pth, rename it to `checkpoint.pth`, save it in the right directory and use it as a starting point (obtained from https://github.com/facebookresearch/dino)\n",
    "- `arg_output_dir = <...>/small_pretrained`\n",
    "- `arg_arch = 'vit_small'`\n",
    "- `arg_batch_size = 125`\n",
    "- `arg_epochs = 100`"
   ]
  },
  {
   "cell_type": "code",
   "execution_count": 2,
   "id": "c0d13135-9a9b-4e1c-afb9-96d834be29e4",
   "metadata": {
    "scrolled": true,
    "tags": []
   },
   "outputs": [],
   "source": [
    "train_dino(arg_output_dir = os.path.join(os.getenv('TRAINED_MODELS'), 'tiny'),\n",
    "           arg_arch='vit_tiny',\n",
    "           arg_batch_size = 200,\n",
    "           arg_epochs = 100)"
   ]
  }
 ],
 "metadata": {
  "kernelspec": {
   "display_name": "Python 3 (ipykernel)",
   "language": "python",
   "name": "python3"
  },
  "language_info": {
   "codemirror_mode": {
    "name": "ipython",
    "version": 3
   },
   "file_extension": ".py",
   "mimetype": "text/x-python",
   "name": "python",
   "nbconvert_exporter": "python",
   "pygments_lexer": "ipython3",
   "version": "3.8.10"
  }
 },
 "nbformat": 4,
 "nbformat_minor": 5
}
