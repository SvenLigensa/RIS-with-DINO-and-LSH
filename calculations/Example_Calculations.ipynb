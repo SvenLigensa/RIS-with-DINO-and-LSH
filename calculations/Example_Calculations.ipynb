{
 "cells": [
  {
   "cell_type": "markdown",
   "id": "d2bb084d-fe72-471e-918e-d078d13c4b71",
   "metadata": {
    "jp-MarkdownHeadingCollapsed": true,
    "tags": []
   },
   "source": [
    "# Setup"
   ]
  },
  {
   "cell_type": "code",
   "execution_count": 1,
   "id": "05619246-5911-464b-97e9-90ec24143ce5",
   "metadata": {},
   "outputs": [],
   "source": [
    "import math\n",
    "import pandas as pd\n",
    "import numpy as np\n",
    "import numpy.linalg as nplinalg\n",
    "from scipy.spatial import distance\n",
    "\n",
    "def hyperplane_hash(u, p):\n",
    "    \"\"\"Calculates the hyperplane hash value for p given the random vector u.\"\"\"\n",
    "    return int(np.dot(u, p) > 0)\n",
    "\n",
    "def crosspolytope_hash(A, p):\n",
    "    \"\"\"Calculates the cross-polytope hash value for p given the rotation matrix A.\"\"\"\n",
    "    v_rotated = np.matmul(A, np.array([[1, 0, -1, 0], [0, 1, 0, -1]]))\n",
    "    min_dist, min_dist_index = np.Inf, -1\n",
    "    for i in range(4):\n",
    "        v_i = np.array([v_rotated[0][i],v_rotated[1][i]])\n",
    "        if nplinalg.norm(v_i-p)**2 < min_dist:\n",
    "            min_dist = nplinalg.norm(v_i-p)**2\n",
    "            min_dist_index = i\n",
    "    return min_dist_index"
   ]
  },
  {
   "cell_type": "markdown",
   "id": "305c4fea-bfe0-4775-8415-6fbcf8e3c1bb",
   "metadata": {},
   "source": [
    "# Example: Hyperplane LSH (p. 22)"
   ]
  },
  {
   "cell_type": "markdown",
   "id": "3c881bd2-0bd2-45b7-ae8e-34c231b7f3e6",
   "metadata": {},
   "source": [
    "Let us consider the points P = {p1, p2} and q in d=2:"
   ]
  },
  {
   "cell_type": "code",
   "execution_count": 2,
   "id": "39d8e0f8-62ce-4de2-bc01-c7511514ffa8",
   "metadata": {},
   "outputs": [
    {
     "name": "stdout",
     "output_type": "stream",
     "text": [
      "p1: [0.97029573 0.2419219 ], p2: [-0.9961947   0.08715574], q: [0.89100652 0.4539905 ]\n"
     ]
    }
   ],
   "source": [
    "p1 = np.array([math.cos((14/180)*math.pi), math.sin((14/180)*math.pi)])\n",
    "p2 = np.array([math.cos((175/180)*math.pi), math.sin((175/180)*math.pi)])\n",
    "q = np.array([math.cos((27/180)*math.pi), math.sin((27/180)*math.pi)])\n",
    "print(f\"p1: {p1}, p2: {p2}, q: {q}\")"
   ]
  },
  {
   "cell_type": "markdown",
   "id": "b318bbeb-f82d-4313-95f5-80a517a1b671",
   "metadata": {},
   "source": [
    "The actual cosine similairities are:"
   ]
  },
  {
   "cell_type": "code",
   "execution_count": 3,
   "id": "61b18473-3ebf-409f-8285-1d6ba7db0172",
   "metadata": {},
   "outputs": [
    {
     "name": "stdout",
     "output_type": "stream",
     "text": [
      "cos(theta(q,p1)): 0.9744, cos(theta(q,p2)): -0.8480\n"
     ]
    }
   ],
   "source": [
    "cos_q_p1 = 1 - distance.cosine(q,p1)\n",
    "cos_q_p2 = 1 - distance.cosine(q,p2)\n",
    "print(f\"cos(theta(q,p1)): {cos_q_p1:.4f}, cos(theta(q,p2)): {cos_q_p2:.4f}\")"
   ]
  },
  {
   "cell_type": "markdown",
   "id": "f3f813ca-efd7-4afe-a195-953c1507cd48",
   "metadata": {},
   "source": [
    "Showing that p1 and 1 are very similar, and p2 and q quite dissimilar."
   ]
  },
  {
   "cell_type": "markdown",
   "id": "12cd500d-2f3a-4365-b6e5-3f0ebd175ba2",
   "metadata": {},
   "source": [
    "Now, suppose we have two random vectors:"
   ]
  },
  {
   "cell_type": "code",
   "execution_count": 4,
   "id": "edc2c4cb-339c-45e5-9881-80bd2f8c26ae",
   "metadata": {},
   "outputs": [
    {
     "name": "stdout",
     "output_type": "stream",
     "text": [
      "u1: [0.64278761 0.76604444], u2: [-0.37460659  0.92718385]\n"
     ]
    }
   ],
   "source": [
    "u1 = np.array([math.cos((50/180)*math.pi), math.sin((50/180)*math.pi)])\n",
    "u2 = np.array([math.cos((112/180)*math.pi), math.sin((112/180)*math.pi)])\n",
    "print(f\"u1: {u1}, u2: {u2}\")"
   ]
  },
  {
   "cell_type": "markdown",
   "id": "9be4f3da-3440-457a-a673-b32e6d96ee04",
   "metadata": {},
   "source": [
    "The hash values generated with H = {h_u1, h_u2) are:"
   ]
  },
  {
   "cell_type": "code",
   "execution_count": 5,
   "id": "6bcf9e8b-59f3-4c60-9570-bcfbae5d6d7f",
   "metadata": {},
   "outputs": [
    {
     "name": "stdout",
     "output_type": "stream",
     "text": [
      "h_u1(p1) = 1 (u1*p1 = 0.8090)\n",
      "h_u1(p2) = 0 (u1*p2 = -0.5736)\n",
      "h_u1(q) = 1 (u1*q = 0.9205)\n",
      "h_u2(p1) = 0 (u2*p1 = -0.1392)\n",
      "h_u2(p2) = 1 (u2*p2 = 0.4540)\n",
      "h_u2(q) = 1 (u2*q = 0.0872)\n"
     ]
    }
   ],
   "source": [
    "print(f\"h_u1(p1) = {hyperplane_hash(u1,p1)} (u1*p1 = {np.dot(u1,p1):.4f})\")\n",
    "print(f\"h_u1(p2) = {hyperplane_hash(u1,p2)} (u1*p2 = {np.dot(u1,p2):.4f})\")\n",
    "print(f\"h_u1(q) = {hyperplane_hash(u1,q)} (u1*q = {np.dot(u1,q):.4f})\")\n",
    "print(f\"h_u2(p1) = {hyperplane_hash(u2,p1)} (u2*p1 = {np.dot(u2,p1):.4f})\")\n",
    "print(f\"h_u2(p2) = {hyperplane_hash(u2,p2)} (u2*p2 = {np.dot(u2,p2):.4f})\")\n",
    "print(f\"h_u2(q) = {hyperplane_hash(u2,q)} (u2*q = {np.dot(u2,q):.4f})\")"
   ]
  },
  {
   "cell_type": "markdown",
   "id": "3934d732-95aa-4ddc-94d8-8e1914b2880a",
   "metadata": {},
   "source": [
    "Concatenating h_u1 and h_u2 with an `AND`-construction would yield no Candidate Pair (CP), while using an `OR`-construction would make both p1 and p2 a CP with q. In practice, when using many more hash functions, the probability for random vectors like u1 (making q and p1 a CP) tends towards 167/180 and the one for vectors like u2 towards 32/180, thus being an *estimation* of the angle between the vectors, which corresponds to their cosine similarity."
   ]
  },
  {
   "cell_type": "markdown",
   "id": "543d1cf3-8969-47dc-a8d9-8dfd2bc2afe8",
   "metadata": {},
   "source": [
    "# Example: Spherical LSH (p. 24)"
   ]
  },
  {
   "cell_type": "markdown",
   "id": "4e0c8b33-e2d6-4694-bb72-ada7eaea9e3f",
   "metadata": {},
   "source": [
    "Let the cross-polytope consist of the vertices:"
   ]
  },
  {
   "cell_type": "code",
   "execution_count": 6,
   "id": "39238358-4f4f-4b64-9300-4bd69ee77315",
   "metadata": {},
   "outputs": [
    {
     "name": "stdout",
     "output_type": "stream",
     "text": [
      "[[ 1  0 -1  0]\n",
      " [ 0  1  0 -1]]\n"
     ]
    }
   ],
   "source": [
    "v_tilde = np.array([[1, 0, -1, 0], [0, 1, 0, -1]])\n",
    "print(v_tilde)"
   ]
  },
  {
   "cell_type": "markdown",
   "id": "ebc544fe-5831-4f52-afc4-e3c8829cd88c",
   "metadata": {},
   "source": [
    "Consider the LSH family H = {h_A1, h_A2} with"
   ]
  },
  {
   "cell_type": "code",
   "execution_count": 7,
   "id": "73e6734d-82b6-4916-be9b-94926a05a582",
   "metadata": {},
   "outputs": [
    {
     "name": "stdout",
     "output_type": "stream",
     "text": [
      "[[ 0.64278761 -0.76604444]\n",
      " [ 0.76604444  0.64278761]]\n",
      "[[-0.92718385 -0.37460659]\n",
      " [ 0.37460659 -0.92718385]]\n"
     ]
    }
   ],
   "source": [
    "# Angle of rotation\n",
    "theta_1, theta_2 = 50*math.pi/180, 158*math.pi/180\n",
    "# Rotation matrices\n",
    "A1 = np.array([[math.cos(theta_1), -math.sin(theta_1)], [math.sin(theta_1), math.cos(theta_1)]])\n",
    "A2 = np.array([[math.cos(theta_2), -math.sin(theta_2)], [math.sin(theta_2), math.cos(theta_2)]])\n",
    "print(A1)\n",
    "print(A2)"
   ]
  },
  {
   "cell_type": "markdown",
   "id": "846eaaa5-7be0-40cf-b32d-fc27d467ccb9",
   "metadata": {},
   "source": [
    "Compute the vertices of the rotated polytopes:"
   ]
  },
  {
   "cell_type": "code",
   "execution_count": 8,
   "id": "c44a1e7f-a712-48d5-810f-bb9ff45165ac",
   "metadata": {},
   "outputs": [
    {
     "name": "stdout",
     "output_type": "stream",
     "text": [
      "[[ 0.64278761 -0.76604444 -0.64278761  0.76604444]\n",
      " [ 0.76604444  0.64278761 -0.76604444 -0.64278761]]\n",
      "[[-0.92718385 -0.37460659  0.92718385  0.37460659]\n",
      " [ 0.37460659 -0.92718385 -0.37460659  0.92718385]]\n"
     ]
    }
   ],
   "source": [
    "v = np.matmul(A1, v_tilde)\n",
    "v_dash = np.matmul(A2, v_tilde)\n",
    "print(v)\n",
    "print(v_dash)"
   ]
  },
  {
   "cell_type": "markdown",
   "id": "4541a92a-3c33-4623-b2ea-23f3bf892659",
   "metadata": {},
   "source": [
    "The hash values generated with H are:"
   ]
  },
  {
   "cell_type": "code",
   "execution_count": 9,
   "id": "292955f1-73e0-44f4-94c6-4f88510b8155",
   "metadata": {},
   "outputs": [
    {
     "name": "stdout",
     "output_type": "stream",
     "text": [
      "h_A1(p1) = 0\n",
      "h_A1(p2) = 1\n",
      "h_A1(q) = 0\n",
      "h_A2(p1) = 2\n",
      "h_A2(p2) = 0\n",
      "h_A2(q) = 3\n"
     ]
    }
   ],
   "source": [
    "print(f\"h_A1(p1) = {crosspolytope_hash(A1, p1)}\")\n",
    "print(f\"h_A1(p2) = {crosspolytope_hash(A1, p2)}\")\n",
    "print(f\"h_A1(q) = {crosspolytope_hash(A1, q)}\")\n",
    "print(f\"h_A2(p1) = {crosspolytope_hash(A2, p1)}\")\n",
    "print(f\"h_A2(p2) = {crosspolytope_hash(A2, p2)}\")\n",
    "print(f\"h_A2(q) = {crosspolytope_hash(A2, q)}\")"
   ]
  },
  {
   "cell_type": "markdown",
   "id": "280b073b-e137-407a-9ff4-924d1314fd84",
   "metadata": {},
   "source": [
    "We see that again two similar items (q and p1) can have different hash values (see h_A2). But different from Hyperplane LSH, very dissimilar instances (q and p2) have no possibility to become a CP."
   ]
  }
 ],
 "metadata": {
  "kernelspec": {
   "display_name": "Python 3 (ipykernel)",
   "language": "python",
   "name": "python3"
  },
  "language_info": {
   "codemirror_mode": {
    "name": "ipython",
    "version": 3
   },
   "file_extension": ".py",
   "mimetype": "text/x-python",
   "name": "python",
   "nbconvert_exporter": "python",
   "pygments_lexer": "ipython3",
   "version": "3.8.10"
  }
 },
 "nbformat": 4,
 "nbformat_minor": 5
}
